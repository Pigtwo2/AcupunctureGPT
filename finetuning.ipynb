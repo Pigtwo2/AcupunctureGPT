{
 "cells": [
  {
   "cell_type": "code",
   "execution_count": null,
   "id": "edd50363",
   "metadata": {
    "scrolled": true
   },
   "outputs": [],
   "source": [
    "!pip install --upgrade openai\n",
    "!pip install pandas"
   ]
  },
  {
   "cell_type": "code",
   "execution_count": 1,
   "id": "173666d8",
   "metadata": {},
   "outputs": [],
   "source": [
    "import openai\n",
    "import os\n",
    "import random\n",
    "import json\n",
    "import pandas as pd\n",
    "from pprint import pprint\n",
    "\n"
   ]
  },
  {
   "cell_type": "code",
   "execution_count": 12,
   "id": "2fcd314b",
   "metadata": {},
   "outputs": [],
   "source": [
    "training_name = \"train.jsonl\"\n",
    "val_name = \"val.jsonl\"\n",
    "openai.api_key = \" \" #Input your api_key"
   ]
  },
  {
   "cell_type": "code",
   "execution_count": null,
   "id": "cee5ff09",
   "metadata": {},
   "outputs": [],
   "source": [
    "training = openai.File.create(\n",
    "    file=open(training_name, \"rb\"), purpose=\"fine-tune\"\n",
    ")\n",
    "training_id = training[\"id\"]\n",
    "print(\"training ID is:\", training_id)\n",
    "\n",
    "validation = openai.File.create(\n",
    "    file=open(val_name, \"rb\"), purpose=\"fine-tune\"\n",
    ")\n",
    "val_id = validation[\"id\"]\n",
    "print(\"Val ID is:\", val_id)"
   ]
  },
  {
   "cell_type": "code",
   "execution_count": null,
   "id": "388af12d",
   "metadata": {},
   "outputs": [],
   "source": [
    "response = openai.FineTuningJob.create(\n",
    "    training_file=training_id,\n",
    "    validation_file=val_id,\n",
    "    model=\"gpt-3.5-turbo\",\n",
    ")\n",
    "\n",
    "job_id = response[\"id\"]\n",
    "\n",
    "print(\"Job ID is:\", response[\"id\"])\n",
    "print(\"Status is:\", response[\"status\"])"
   ]
  },
  {
   "cell_type": "code",
   "execution_count": null,
   "id": "f7ce1712",
   "metadata": {},
   "outputs": [],
   "source": [
    "response = openai.FineTuningJob.retrieve(job_id)\n",
    "\n",
    "print(\"Job ID:\", response[\"id\"])\n",
    "print(\"Status:\", response[\"status\"])\n",
    "print(\"Trained Tokens:\", response[\"trained_tokens\"])"
   ]
  },
  {
   "cell_type": "code",
   "execution_count": null,
   "id": "9fa178ef",
   "metadata": {},
   "outputs": [],
   "source": [
    "response = openai.FineTuningJob.list_events(id=job_id, limit=50)\n",
    "\n",
    "\n",
    "response = openai.FineTuningJob.retrieve(job_id)\n",
    "fine_tuned_model_id = response[\"fine_tuned_model\"]\n",
    "\n",
    "print(\"Fine-tuned model ID:\", fine_tuned_model_id)"
   ]
  },
  {
   "cell_type": "code",
   "execution_count": null,
   "id": "8f273271",
   "metadata": {},
   "outputs": [],
   "source": [
    "openai.FineTuningJob.retrieve(job_id)"
   ]
  }
 ],
 "metadata": {
  "kernelspec": {
   "display_name": "py39",
   "language": "python",
   "name": "py39"
  },
  "language_info": {
   "codemirror_mode": {
    "name": "ipython",
    "version": 3
   },
   "file_extension": ".py",
   "mimetype": "text/x-python",
   "name": "python",
   "nbconvert_exporter": "python",
   "pygments_lexer": "ipython3",
   "version": "3.9.18"
  }
 },
 "nbformat": 4,
 "nbformat_minor": 5
}
